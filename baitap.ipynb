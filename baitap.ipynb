{
 "cells": [
  {
   "cell_type": "code",
   "execution_count": 33,
   "id": "87458ec6",
   "metadata": {},
   "outputs": [
    {
     "name": "stdout",
     "output_type": "stream",
     "text": [
      "Nhap ba so thuc a b c\n",
      "1\n",
      "7\n",
      "6\n",
      "hai nghiem la -6.0, -1.0 \n"
     ]
    }
   ],
   "source": [
    "    print(\"Nhap ba so thuc a b c\")\n",
    "    a = float(input())\n",
    "    b = float(input())\n",
    "    c = float(input())\n",
    "    if a!=0:\n",
    "        delta=b*b-4*a*c\n",
    "        if delta>0:\n",
    "            x=(-b-delta**0.5)/(2*a)\n",
    "            y=(-b+delta**0.5)/(2*a)\n",
    "            print(f\"hai nghiem la {x}, {y} \")\n",
    "        elif delta ==0:\n",
    "            x=(-b)/(2*a)\n",
    "            print(f\"nghiem kep la {x}\")\n",
    "        else:\n",
    "            print(\"phuong trinh vo nghiem\")\n",
    "    else:\n",
    "        print(\"giai phuong trinh bac 1\")\n",
    "    "
   ]
  },
  {
   "cell_type": "code",
   "execution_count": null,
   "id": "8f261cb5",
   "metadata": {},
   "outputs": [],
   "source": []
  }
 ],
 "metadata": {
  "kernelspec": {
   "display_name": "Python 3 (ipykernel)",
   "language": "python",
   "name": "python3"
  },
  "language_info": {
   "codemirror_mode": {
    "name": "ipython",
    "version": 3
   },
   "file_extension": ".py",
   "mimetype": "text/x-python",
   "name": "python",
   "nbconvert_exporter": "python",
   "pygments_lexer": "ipython3",
   "version": "3.9.7"
  }
 },
 "nbformat": 4,
 "nbformat_minor": 5
}
